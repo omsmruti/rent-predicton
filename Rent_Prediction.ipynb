{
  "nbformat": 4,
  "nbformat_minor": 0,
  "metadata": {
    "colab": {
      "name": "Rent Prediction",
      "provenance": []
    },
    "kernelspec": {
      "name": "python3",
      "display_name": "Python 3"
    }
  },
  "cells": [
    {
      "cell_type": "markdown",
      "metadata": {
        "id": "7rB55FTH74So"
      },
      "source": [
        "# **Rent Prediction(Introduction)**"
      ]
    },
    {
      "cell_type": "markdown",
      "metadata": {
        "id": "pSAP8KnhIMJI"
      },
      "source": [
        "### Introduction"
      ]
    },
    {
      "cell_type": "markdown",
      "metadata": {
        "id": "xUmfbGoaKayW"
      },
      "source": [
        "Here in this project, I'm trying to build a Machine Learning model which will predict the rent amount for houses based on a dataset from Kaggle."
      ]
    },
    {
      "cell_type": "markdown",
      "metadata": {
        "id": "18zZMT73LQ6t"
      },
      "source": [
        "### Data"
      ]
    },
    {
      "cell_type": "markdown",
      "metadata": {
        "id": "-PA7zkWaLYtK"
      },
      "source": [
        "1.   Source: https://www.kaggle.com/rubenssjr/brasilian-houses-to-rent/\n",
        "2.   Description: This dataset contains various information(13 columns) about 10,692 houses in Brazil.\n",
        "\n"
      ]
    },
    {
      "cell_type": "markdown",
      "metadata": {
        "id": "TvJMPA63NE_2"
      },
      "source": [
        "### Approach & Goal"
      ]
    },
    {
      "cell_type": "markdown",
      "metadata": {
        "id": "HNhhTyu9NXK4"
      },
      "source": [
        "First I'll be doing some basic Data Exploration to know more about my dataset. Then based on my EDA(Exploratory Data Exploration), I'll be doing some Data Cleaning so that I can build my Regression Model on it. Then I will build a baseline model to predict the rent amount which I will then try to optimize and finally pick the model which performed the best i.e. which had the highest R^2 Score."
      ]
    },
    {
      "cell_type": "markdown",
      "metadata": {
        "id": "7ICU3Uk9prNQ"
      },
      "source": [
        "# **Uploading Dataset**"
      ]
    },
    {
      "cell_type": "markdown",
      "metadata": {
        "id": "Z94kUYhYQrzD"
      },
      "source": [
        "Here I'm just uploading the dataset from my system to google colab."
      ]
    },
    {
      "cell_type": "code",
      "metadata": {
        "colab": {
          "resources": {
            "http://localhost:8080/nbextensions/google.colab/files.js": {
              "data": "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",
              "ok": true,
              "headers": [
                [
                  "content-type",
                  "application/javascript"
                ]
              ],
              "status": 200,
              "status_text": ""
            }
          },
          "base_uri": "https://localhost:8080/",
          "height": 74
        },
        "id": "e1QRmITlhPZI",
        "outputId": "24bdfb6b-2253-4576-9d27-35f54401e228"
      },
      "source": [
        "from google.colab import files\n",
        "uploaded=files.upload()\n",
        "import pandas as pd \n",
        "import io\n",
        "rent=pd.read_csv(io.BytesIO(uploaded['houses_to_rent_v2.csv']))"
      ],
      "execution_count": null,
      "outputs": [
        {
          "output_type": "display_data",
          "data": {
            "text/html": [
              "\n",
              "     <input type=\"file\" id=\"files-ce9731db-5240-4958-af57-c8129f691a1b\" name=\"files[]\" multiple disabled\n",
              "        style=\"border:none\" />\n",
              "     <output id=\"result-ce9731db-5240-4958-af57-c8129f691a1b\">\n",
              "      Upload widget is only available when the cell has been executed in the\n",
              "      current browser session. Please rerun this cell to enable.\n",
              "      </output>\n",
              "      <script src=\"/nbextensions/google.colab/files.js\"></script> "
            ],
            "text/plain": [
              "<IPython.core.display.HTML object>"
            ]
          },
          "metadata": {
            "tags": []
          }
        },
        {
          "output_type": "stream",
          "text": [
            "Saving houses_to_rent_v2.csv to houses_to_rent_v2.csv\n"
          ],
          "name": "stdout"
        }
      ]
    },
    {
      "cell_type": "markdown",
      "metadata": {
        "id": "gICKb5BTpyKd"
      },
      "source": [
        "# **Data Exploration(1)**"
      ]
    },
    {
      "cell_type": "code",
      "metadata": {
        "colab": {
          "base_uri": "https://localhost:8080/"
        },
        "id": "fy0RTOyZpKWx",
        "outputId": "6459c8f0-3f35-460f-c05a-6b748146a7a4"
      },
      "source": [
        "rent.head() # to check what all columns we have about the houses"
      ],
      "execution_count": null,
      "outputs": [
        {
          "output_type": "execute_result",
          "data": {
            "text/html": [
              "<div>\n",
              "<style scoped>\n",
              "    .dataframe tbody tr th:only-of-type {\n",
              "        vertical-align: middle;\n",
              "    }\n",
              "\n",
              "    .dataframe tbody tr th {\n",
              "        vertical-align: top;\n",
              "    }\n",
              "\n",
              "    .dataframe thead th {\n",
              "        text-align: right;\n",
              "    }\n",
              "</style>\n",
              "<table border=\"1\" class=\"dataframe\">\n",
              "  <thead>\n",
              "    <tr style=\"text-align: right;\">\n",
              "      <th></th>\n",
              "      <th>city</th>\n",
              "      <th>area</th>\n",
              "      <th>rooms</th>\n",
              "      <th>bathroom</th>\n",
              "      <th>parking spaces</th>\n",
              "      <th>floor</th>\n",
              "      <th>animal</th>\n",
              "      <th>furniture</th>\n",
              "      <th>hoa (R$)</th>\n",
              "      <th>rent amount (R$)</th>\n",
              "      <th>property tax (R$)</th>\n",
              "      <th>fire insurance (R$)</th>\n",
              "      <th>total (R$)</th>\n",
              "    </tr>\n",
              "  </thead>\n",
              "  <tbody>\n",
              "    <tr>\n",
              "      <th>0</th>\n",
              "      <td>São Paulo</td>\n",
              "      <td>70</td>\n",
              "      <td>2</td>\n",
              "      <td>1</td>\n",
              "      <td>1</td>\n",
              "      <td>7</td>\n",
              "      <td>acept</td>\n",
              "      <td>furnished</td>\n",
              "      <td>2065</td>\n",
              "      <td>3300</td>\n",
              "      <td>211</td>\n",
              "      <td>42</td>\n",
              "      <td>5618</td>\n",
              "    </tr>\n",
              "    <tr>\n",
              "      <th>1</th>\n",
              "      <td>São Paulo</td>\n",
              "      <td>320</td>\n",
              "      <td>4</td>\n",
              "      <td>4</td>\n",
              "      <td>0</td>\n",
              "      <td>20</td>\n",
              "      <td>acept</td>\n",
              "      <td>not furnished</td>\n",
              "      <td>1200</td>\n",
              "      <td>4960</td>\n",
              "      <td>1750</td>\n",
              "      <td>63</td>\n",
              "      <td>7973</td>\n",
              "    </tr>\n",
              "    <tr>\n",
              "      <th>2</th>\n",
              "      <td>Porto Alegre</td>\n",
              "      <td>80</td>\n",
              "      <td>1</td>\n",
              "      <td>1</td>\n",
              "      <td>1</td>\n",
              "      <td>6</td>\n",
              "      <td>acept</td>\n",
              "      <td>not furnished</td>\n",
              "      <td>1000</td>\n",
              "      <td>2800</td>\n",
              "      <td>0</td>\n",
              "      <td>41</td>\n",
              "      <td>3841</td>\n",
              "    </tr>\n",
              "    <tr>\n",
              "      <th>3</th>\n",
              "      <td>Porto Alegre</td>\n",
              "      <td>51</td>\n",
              "      <td>2</td>\n",
              "      <td>1</td>\n",
              "      <td>0</td>\n",
              "      <td>2</td>\n",
              "      <td>acept</td>\n",
              "      <td>not furnished</td>\n",
              "      <td>270</td>\n",
              "      <td>1112</td>\n",
              "      <td>22</td>\n",
              "      <td>17</td>\n",
              "      <td>1421</td>\n",
              "    </tr>\n",
              "    <tr>\n",
              "      <th>4</th>\n",
              "      <td>São Paulo</td>\n",
              "      <td>25</td>\n",
              "      <td>1</td>\n",
              "      <td>1</td>\n",
              "      <td>0</td>\n",
              "      <td>1</td>\n",
              "      <td>not acept</td>\n",
              "      <td>not furnished</td>\n",
              "      <td>0</td>\n",
              "      <td>800</td>\n",
              "      <td>25</td>\n",
              "      <td>11</td>\n",
              "      <td>836</td>\n",
              "    </tr>\n",
              "  </tbody>\n",
              "</table>\n",
              "</div>"
            ],
            "text/plain": [
              "           city  area  ...  fire insurance (R$)  total (R$)\n",
              "0     São Paulo    70  ...                   42        5618\n",
              "1     São Paulo   320  ...                   63        7973\n",
              "2  Porto Alegre    80  ...                   41        3841\n",
              "3  Porto Alegre    51  ...                   17        1421\n",
              "4     São Paulo    25  ...                   11         836\n",
              "\n",
              "[5 rows x 13 columns]"
            ]
          },
          "metadata": {
            "tags": []
          },
          "execution_count": 2
        }
      ]
    },
    {
      "cell_type": "code",
      "metadata": {
        "colab": {
          "base_uri": "https://localhost:8080/"
        },
        "id": "cfPjxHzbpnHf",
        "outputId": "dd10591b-8946-49b6-fcbc-b8176a105b67"
      },
      "source": [
        "rent.dtypes # to check data types of all the columns"
      ],
      "execution_count": null,
      "outputs": [
        {
          "output_type": "execute_result",
          "data": {
            "text/plain": [
              "city                   object\n",
              "area                    int64\n",
              "rooms                   int64\n",
              "bathroom                int64\n",
              "parking spaces          int64\n",
              "floor                  object\n",
              "animal                 object\n",
              "furniture              object\n",
              "hoa (R$)                int64\n",
              "rent amount (R$)        int64\n",
              "property tax (R$)       int64\n",
              "fire insurance (R$)     int64\n",
              "total (R$)              int64\n",
              "dtype: object"
            ]
          },
          "metadata": {
            "tags": []
          },
          "execution_count": 3
        }
      ]
    },
    {
      "cell_type": "markdown",
      "metadata": {
        "id": "G_7QorQTTt02"
      },
      "source": [
        "The above code snippet helps us to identify the object type columns as we will need to convert them to numerical type to build our model later on."
      ]
    },
    {
      "cell_type": "code",
      "metadata": {
        "colab": {
          "base_uri": "https://localhost:8080/"
        },
        "id": "HEJqp7bwrdS3",
        "outputId": "a54ec2f9-5a9d-468b-bf58-c278a5108041"
      },
      "source": [
        "rent.isnull().sum() # to check if there are any null values anywhere in our dataset"
      ],
      "execution_count": null,
      "outputs": [
        {
          "output_type": "execute_result",
          "data": {
            "text/plain": [
              "city                   0\n",
              "area                   0\n",
              "rooms                  0\n",
              "bathroom               0\n",
              "parking spaces         0\n",
              "floor                  0\n",
              "animal                 0\n",
              "furniture              0\n",
              "hoa (R$)               0\n",
              "rent amount (R$)       0\n",
              "property tax (R$)      0\n",
              "fire insurance (R$)    0\n",
              "total (R$)             0\n",
              "dtype: int64"
            ]
          },
          "metadata": {
            "tags": []
          },
          "execution_count": 4
        }
      ]
    },
    {
      "cell_type": "markdown",
      "metadata": {
        "id": "WBuBYDeCT6VF"
      },
      "source": [
        "As we can see from above, there are no NULL values in our dataset."
      ]
    },
    {
      "cell_type": "markdown",
      "metadata": {
        "id": "p7tsbVQSUlpS"
      },
      "source": [
        "Now one by one we'll first explore all the object type columns and see how we can convert them to numerical type."
      ]
    },
    {
      "cell_type": "markdown",
      "metadata": {
        "id": "iyhwozf7UCzV"
      },
      "source": [
        "Now we'll explore the city column and find out the number of cities there are in our dataset."
      ]
    },
    {
      "cell_type": "code",
      "metadata": {
        "colab": {
          "base_uri": "https://localhost:8080/"
        },
        "id": "12fwkDGkp4aL",
        "outputId": "54c50ddc-bd89-4f15-8ea8-cbb1ee2a657b"
      },
      "source": [
        "rent.city.unique()"
      ],
      "execution_count": null,
      "outputs": [
        {
          "output_type": "execute_result",
          "data": {
            "text/plain": [
              "array(['São Paulo', 'Porto Alegre', 'Rio de Janeiro', 'Campinas',\n",
              "       'Belo Horizonte'], dtype=object)"
            ]
          },
          "metadata": {
            "tags": []
          },
          "execution_count": 5
        }
      ]
    },
    {
      "cell_type": "markdown",
      "metadata": {
        "id": "pbYxHtEbUO1a"
      },
      "source": [
        "Now we'll explore the floor column and find out the number of floor types there are in our data. As there are multiple types of cities here, we'll be doing One Hot Encoding here."
      ]
    },
    {
      "cell_type": "code",
      "metadata": {
        "colab": {
          "base_uri": "https://localhost:8080/"
        },
        "id": "94bViv6trMtX",
        "outputId": "a418b6d1-2ada-4db4-972e-acebdd74c502"
      },
      "source": [
        "rent.floor.unique()"
      ],
      "execution_count": null,
      "outputs": [
        {
          "output_type": "execute_result",
          "data": {
            "text/plain": [
              "array(['7', '20', '6', '2', '1', '-', '4', '3', '10', '11', '24', '9',\n",
              "       '8', '17', '18', '5', '13', '15', '16', '14', '26', '12', '21',\n",
              "       '19', '22', '27', '23', '35', '25', '46', '28', '29', '301', '51',\n",
              "       '32'], dtype=object)"
            ]
          },
          "metadata": {
            "tags": []
          },
          "execution_count": 6
        }
      ]
    },
    {
      "cell_type": "markdown",
      "metadata": {
        "id": "BavgX8wFUW7L"
      },
      "source": [
        "As we can see, this column is of object type because there is a '-' value in the column, so we need to replace it with some other numerical value accordingly."
      ]
    },
    {
      "cell_type": "code",
      "metadata": {
        "colab": {
          "base_uri": "https://localhost:8080/"
        },
        "id": "yFB7CtZMrVaI",
        "outputId": "e36a1bd2-08cb-4e75-e780-538bf6a2db72"
      },
      "source": [
        "rent.animal.unique()"
      ],
      "execution_count": null,
      "outputs": [
        {
          "output_type": "execute_result",
          "data": {
            "text/plain": [
              "array(['acept', 'not acept'], dtype=object)"
            ]
          },
          "metadata": {
            "tags": []
          },
          "execution_count": 7
        }
      ]
    },
    {
      "cell_type": "markdown",
      "metadata": {
        "id": "QVUUMaX9Ut8x"
      },
      "source": [
        "As we can see, there are only 2 types here, so we'll be converting them to 1(acept)and 0(not acept). This is known as Label Encoding."
      ]
    },
    {
      "cell_type": "code",
      "metadata": {
        "colab": {
          "base_uri": "https://localhost:8080/"
        },
        "id": "mmijVPGLraLG",
        "outputId": "ec492bab-e66b-4676-ffb9-54037f2afc9e"
      },
      "source": [
        "rent.furniture.unique()"
      ],
      "execution_count": null,
      "outputs": [
        {
          "output_type": "execute_result",
          "data": {
            "text/plain": [
              "array(['furnished', 'not furnished'], dtype=object)"
            ]
          },
          "metadata": {
            "tags": []
          },
          "execution_count": 8
        }
      ]
    },
    {
      "cell_type": "markdown",
      "metadata": {
        "id": "fTSYhQlxU_Qz"
      },
      "source": [
        "As we can see, there are only 2 types here, so we'll be converting them to 1(furnished)and 0(not furnished)."
      ]
    },
    {
      "cell_type": "markdown",
      "metadata": {
        "id": "UoQWjcJtr9el"
      },
      "source": [
        "# **Data Cleaning**"
      ]
    },
    {
      "cell_type": "markdown",
      "metadata": {
        "id": "NgWiPx5DVmXB"
      },
      "source": [
        "Function to convert furniture column to numerical type"
      ]
    },
    {
      "cell_type": "code",
      "metadata": {
        "id": "MGQmeqykxT2y"
      },
      "source": [
        "def furniture(x):\n",
        "    if x=='furnished':\n",
        "        return 1\n",
        "    else:\n",
        "        return 0"
      ],
      "execution_count": null,
      "outputs": []
    },
    {
      "cell_type": "markdown",
      "metadata": {
        "id": "x-U_9aknVswZ"
      },
      "source": [
        "Function to convert animal column to numerical type"
      ]
    },
    {
      "cell_type": "code",
      "metadata": {
        "id": "ycq5JV3wzlFM"
      },
      "source": [
        "def animal(x):\n",
        "    if x=='acept':\n",
        "        return 1\n",
        "    else:\n",
        "        return 0"
      ],
      "execution_count": null,
      "outputs": []
    },
    {
      "cell_type": "code",
      "metadata": {
        "id": "RwSUywJ_zwy5"
      },
      "source": [
        "rent['furniture']=rent['furniture'].apply(furniture) #applied our function to convert data type from object to numerical\n",
        "rent['animal']=rent['animal'].apply(animal)          #applied our function to convert data type from object to numerical"
      ],
      "execution_count": null,
      "outputs": []
    },
    {
      "cell_type": "code",
      "metadata": {
        "colab": {
          "base_uri": "https://localhost:8080/"
        },
        "id": "cw9U5zQv0EQZ",
        "outputId": "e0002646-431b-486c-d8e4-9db612a7d8e9"
      },
      "source": [
        "rent[rent.floor=='-'].describe() # to check how many datapoints have their floor value as '-'"
      ],
      "execution_count": null,
      "outputs": [
        {
          "output_type": "execute_result",
          "data": {
            "text/html": [
              "<div>\n",
              "<style scoped>\n",
              "    .dataframe tbody tr th:only-of-type {\n",
              "        vertical-align: middle;\n",
              "    }\n",
              "\n",
              "    .dataframe tbody tr th {\n",
              "        vertical-align: top;\n",
              "    }\n",
              "\n",
              "    .dataframe thead th {\n",
              "        text-align: right;\n",
              "    }\n",
              "</style>\n",
              "<table border=\"1\" class=\"dataframe\">\n",
              "  <thead>\n",
              "    <tr style=\"text-align: right;\">\n",
              "      <th></th>\n",
              "      <th>area</th>\n",
              "      <th>rooms</th>\n",
              "      <th>bathroom</th>\n",
              "      <th>parking spaces</th>\n",
              "      <th>animal</th>\n",
              "      <th>furniture</th>\n",
              "      <th>hoa (R$)</th>\n",
              "      <th>rent amount (R$)</th>\n",
              "      <th>property tax (R$)</th>\n",
              "      <th>fire insurance (R$)</th>\n",
              "      <th>total (R$)</th>\n",
              "    </tr>\n",
              "  </thead>\n",
              "  <tbody>\n",
              "    <tr>\n",
              "      <th>count</th>\n",
              "      <td>2461.000000</td>\n",
              "      <td>2461.000000</td>\n",
              "      <td>2461.000000</td>\n",
              "      <td>2461.000000</td>\n",
              "      <td>2461.000000</td>\n",
              "      <td>2461.000000</td>\n",
              "      <td>2461.000000</td>\n",
              "      <td>2461.000000</td>\n",
              "      <td>2461.000000</td>\n",
              "      <td>2461.000000</td>\n",
              "      <td>2461.000000</td>\n",
              "    </tr>\n",
              "    <tr>\n",
              "      <th>mean</th>\n",
              "      <td>231.622105</td>\n",
              "      <td>3.054043</td>\n",
              "      <td>2.826493</td>\n",
              "      <td>2.428281</td>\n",
              "      <td>0.809833</td>\n",
              "      <td>0.143844</td>\n",
              "      <td>134.710687</td>\n",
              "      <td>4946.346201</td>\n",
              "      <td>440.172288</td>\n",
              "      <td>76.196262</td>\n",
              "      <td>5597.558716</td>\n",
              "    </tr>\n",
              "    <tr>\n",
              "      <th>std</th>\n",
              "      <td>189.582151</td>\n",
              "      <td>1.422498</td>\n",
              "      <td>1.697070</td>\n",
              "      <td>2.231937</td>\n",
              "      <td>0.392512</td>\n",
              "      <td>0.351003</td>\n",
              "      <td>698.342176</td>\n",
              "      <td>4013.794195</td>\n",
              "      <td>839.181049</td>\n",
              "      <td>61.980466</td>\n",
              "      <td>4716.551149</td>\n",
              "    </tr>\n",
              "    <tr>\n",
              "      <th>min</th>\n",
              "      <td>12.000000</td>\n",
              "      <td>1.000000</td>\n",
              "      <td>1.000000</td>\n",
              "      <td>0.000000</td>\n",
              "      <td>0.000000</td>\n",
              "      <td>0.000000</td>\n",
              "      <td>0.000000</td>\n",
              "      <td>450.000000</td>\n",
              "      <td>0.000000</td>\n",
              "      <td>6.000000</td>\n",
              "      <td>499.000000</td>\n",
              "    </tr>\n",
              "    <tr>\n",
              "      <th>25%</th>\n",
              "      <td>83.000000</td>\n",
              "      <td>2.000000</td>\n",
              "      <td>1.000000</td>\n",
              "      <td>0.000000</td>\n",
              "      <td>1.000000</td>\n",
              "      <td>0.000000</td>\n",
              "      <td>0.000000</td>\n",
              "      <td>1800.000000</td>\n",
              "      <td>42.000000</td>\n",
              "      <td>26.000000</td>\n",
              "      <td>1956.000000</td>\n",
              "    </tr>\n",
              "    <tr>\n",
              "      <th>50%</th>\n",
              "      <td>190.000000</td>\n",
              "      <td>3.000000</td>\n",
              "      <td>3.000000</td>\n",
              "      <td>2.000000</td>\n",
              "      <td>1.000000</td>\n",
              "      <td>0.000000</td>\n",
              "      <td>0.000000</td>\n",
              "      <td>3700.000000</td>\n",
              "      <td>194.000000</td>\n",
              "      <td>58.000000</td>\n",
              "      <td>4112.000000</td>\n",
              "    </tr>\n",
              "    <tr>\n",
              "      <th>75%</th>\n",
              "      <td>321.000000</td>\n",
              "      <td>4.000000</td>\n",
              "      <td>4.000000</td>\n",
              "      <td>4.000000</td>\n",
              "      <td>1.000000</td>\n",
              "      <td>0.000000</td>\n",
              "      <td>0.000000</td>\n",
              "      <td>7000.000000</td>\n",
              "      <td>500.000000</td>\n",
              "      <td>109.000000</td>\n",
              "      <td>7999.000000</td>\n",
              "    </tr>\n",
              "    <tr>\n",
              "      <th>max</th>\n",
              "      <td>2000.000000</td>\n",
              "      <td>13.000000</td>\n",
              "      <td>10.000000</td>\n",
              "      <td>12.000000</td>\n",
              "      <td>1.000000</td>\n",
              "      <td>1.000000</td>\n",
              "      <td>15000.000000</td>\n",
              "      <td>45000.000000</td>\n",
              "      <td>21880.000000</td>\n",
              "      <td>677.000000</td>\n",
              "      <td>54430.000000</td>\n",
              "    </tr>\n",
              "  </tbody>\n",
              "</table>\n",
              "</div>"
            ],
            "text/plain": [
              "              area        rooms  ...  fire insurance (R$)    total (R$)\n",
              "count  2461.000000  2461.000000  ...          2461.000000   2461.000000\n",
              "mean    231.622105     3.054043  ...            76.196262   5597.558716\n",
              "std     189.582151     1.422498  ...            61.980466   4716.551149\n",
              "min      12.000000     1.000000  ...             6.000000    499.000000\n",
              "25%      83.000000     2.000000  ...            26.000000   1956.000000\n",
              "50%     190.000000     3.000000  ...            58.000000   4112.000000\n",
              "75%     321.000000     4.000000  ...           109.000000   7999.000000\n",
              "max    2000.000000    13.000000  ...           677.000000  54430.000000\n",
              "\n",
              "[8 rows x 11 columns]"
            ]
          },
          "metadata": {
            "tags": []
          },
          "execution_count": 12
        }
      ]
    },
    {
      "cell_type": "markdown",
      "metadata": {
        "id": "7GuwMNaqWmKC"
      },
      "source": [
        "As 2461 datapoints out of 10692 have this floor value, we can't just drop these rows."
      ]
    },
    {
      "cell_type": "markdown",
      "metadata": {
        "id": "I95DKmxqW6o5"
      },
      "source": [
        "Now as it is a categorical type of data, we can't just replace it with mean value. We can replace it with median but I decided to replace it with zero as the '-' column value might be due to the fact that those houses are not in apartments so they don't really have a floor value. So replacing them with zero makes sense."
      ]
    },
    {
      "cell_type": "code",
      "metadata": {
        "id": "MbDLAbdl0t3n"
      },
      "source": [
        "import numpy as np #importing numpy library to help replace floor values\n",
        "rent['floor'].replace('-',np.nan,inplace=True) # replaced - with NAN \n",
        "rent['floor'].fillna(0,inplace=True)            # filled NAN with 0 as decided\n",
        "rent['floor']=rent['floor'].astype('int')       # converted datatype from object to integer"
      ],
      "execution_count": null,
      "outputs": []
    },
    {
      "cell_type": "markdown",
      "metadata": {
        "id": "SnVF-TQAY6DW"
      },
      "source": [
        "Now we'll see if the city column is important or not for predicting our rent amount before converting it to numerical datatype because if it's not important then we can just drop it instead of converting it from categorical to numerical type."
      ]
    },
    {
      "cell_type": "markdown",
      "metadata": {
        "id": "Cj3TavpwaKy_"
      },
      "source": [
        "Bar Plot to see the rent amount with respect to each city"
      ]
    },
    {
      "cell_type": "code",
      "metadata": {
        "colab": {
          "base_uri": "https://localhost:8080/"
        },
        "id": "tYTwJ3Mn5zY9",
        "outputId": "fc17a198-783b-4fa6-cff4-f003bf8453e3"
      },
      "source": [
        "import seaborn as sns # importing seaborn library to plot our barplot\n",
        "sns.barplot(x=rent.city,y=rent['rent amount (R$)'])"
      ],
      "execution_count": null,
      "outputs": [
        {
          "output_type": "execute_result",
          "data": {
            "text/plain": [
              "<matplotlib.axes._subplots.AxesSubplot at 0x7f67924e21d0>"
            ]
          },
          "metadata": {
            "tags": []
          },
          "execution_count": 14
        },
        {
          "output_type": "display_data",
          "data": {
            "image/png": "[encoded data removed]",
            "text/plain": [
              "<Figure size 432x288 with 1 Axes>"
            ]
          },
          "metadata": {
            "tags": [],
            "needs_background": "light"
          }
        }
      ]
    },
    {
      "cell_type": "markdown",
      "metadata": {
        "id": "mgtA0rHUatRg"
      },
      "source": [
        "As we can see from the plot, mean of rent amount is clearly different for each city. So city seems like an important feature for predicting the rent amount. Now we'll confirm this by doing One Way Analysis of Variance of the city column."
      ]
    },
    {
      "cell_type": "markdown",
      "metadata": {
        "id": "E2cI_bGbc5CD"
      },
      "source": [
        "**One Way ANOVA :** It compares the means of two or more independent groups in order to determine whether there is a statisticl evidence that the associated means are significantly different or not. It's useful in determing whether a categorical varibale is an important predictor or not. F score(variation between sample means / variation within the samples) of the test needs to be high. Now there's another paramter named as p-value which determines the probability of confidence with which we can reject our null hypothesis which here is that the mean doesn't vary with the groups. If the p-value is 0.05, then with 95% confidence we can reject the null hypothesis implying there is statistically significant variance of means among the various groups."
      ]
    },
    {
      "cell_type": "markdown",
      "metadata": {
        "id": "howfPT7sgPM2"
      },
      "source": [
        "Here we're looking for a high F score and a p value of less than 0.05."
      ]
    },
    {
      "cell_type": "code",
      "metadata": {
        "colab": {
          "base_uri": "https://localhost:8080/"
        },
        "id": "YdTwEbNF9VjI",
        "outputId": "d3408cac-8f34-4fde-e22b-8c329423b523"
      },
      "source": [
        "from scipy import stats #importing necessary packages to do our one way anova\n",
        "grouped_city=rent[['city','rent amount (R$)']].groupby(['city'])   #grouping our dataset by city\n",
        "f_val, p_val=stats.f_oneway(grouped_city.get_group('São Paulo')['rent amount (R$)'],grouped_city.get_group('Porto Alegre')['rent amount (R$)'],grouped_city.get_group('Rio de Janeiro')['rent amount (R$)'],grouped_city.get_group('Campinas')['rent amount (R$)'],grouped_city.get_group('Belo Horizonte')['rent amount (R$)'])\n",
        "print('F score is: ',f_val)\n",
        "print('p value is: ',p_val)"
      ],
      "execution_count": null,
      "outputs": [
        {
          "output_type": "stream",
          "text": [
            "F score is:  208.6507059416919\n",
            "p value is:  1.2182868517894044e-172\n"
          ],
          "name": "stdout"
        }
      ]
    },
    {
      "cell_type": "markdown",
      "metadata": {
        "id": "1tXNg2NxbuKe"
      },
      "source": [
        "As we can see, the F_score is pretty high and the p value is also low. So we can conclude that city is indeed an important feature to predict rent amount. So now we'll move on with converting it's datatype from object to integer."
      ]
    },
    {
      "cell_type": "markdown",
      "metadata": {
        "id": "8ZaxsEhtgZmr"
      },
      "source": [
        "We conclude that city is an important predictor for the rent amount with a F_score of 208.65 with almost 100% confidence."
      ]
    },
    {
      "cell_type": "markdown",
      "metadata": {
        "id": "9xxssZZ3gtge"
      },
      "source": [
        "Now we'll be converting the city column using one hot encoding as these are not ordinal variables i.e. they don't have any particular order amongst themselves. So if we use Label encoding then our ML model might assign higher weightage to whichever city we have encoded with higher integer values."
      ]
    },
    {
      "cell_type": "code",
      "metadata": {
        "id": "XwwX8MZB_JKz"
      },
      "source": [
        "rent_2=pd.get_dummies(rent,drop_first=True) # One Hot Encoding and then dropping the first column to remove multicollinearity."
      ],
      "execution_count": null,
      "outputs": []
    },
    {
      "cell_type": "code",
      "metadata": {
        "colab": {
          "base_uri": "https://localhost:8080/"
        },
        "id": "EfOOoD0p_7dj",
        "outputId": "ccd99266-9baf-4abf-e8d8-eecc20bb7b57"
      },
      "source": [
        "rent_2.head() # let's see our new modified dataset"
      ],
      "execution_count": null,
      "outputs": [
        {
          "output_type": "execute_result",
          "data": {
            "text/html": [
              "<div>\n",
              "<style scoped>\n",
              "    .dataframe tbody tr th:only-of-type {\n",
              "        vertical-align: middle;\n",
              "    }\n",
              "\n",
              "    .dataframe tbody tr th {\n",
              "        vertical-align: top;\n",
              "    }\n",
              "\n",
              "    .dataframe thead th {\n",
              "        text-align: right;\n",
              "    }\n",
              "</style>\n",
              "<table border=\"1\" class=\"dataframe\">\n",
              "  <thead>\n",
              "    <tr style=\"text-align: right;\">\n",
              "      <th></th>\n",
              "      <th>area</th>\n",
              "      <th>rooms</th>\n",
              "      <th>bathroom</th>\n",
              "      <th>parking spaces</th>\n",
              "      <th>floor</th>\n",
              "      <th>animal</th>\n",
              "      <th>furniture</th>\n",
              "      <th>hoa (R$)</th>\n",
              "      <th>rent amount (R$)</th>\n",
              "      <th>property tax (R$)</th>\n",
              "      <th>fire insurance (R$)</th>\n",
              "      <th>total (R$)</th>\n",
              "      <th>city_Campinas</th>\n",
              "      <th>city_Porto Alegre</th>\n",
              "      <th>city_Rio de Janeiro</th>\n",
              "      <th>city_São Paulo</th>\n",
              "    </tr>\n",
              "  </thead>\n",
              "  <tbody>\n",
              "    <tr>\n",
              "      <th>0</th>\n",
              "      <td>70</td>\n",
              "      <td>2</td>\n",
              "      <td>1</td>\n",
              "      <td>1</td>\n",
              "      <td>7</td>\n",
              "      <td>1</td>\n",
              "      <td>1</td>\n",
              "      <td>2065</td>\n",
              "      <td>3300</td>\n",
              "      <td>211</td>\n",
              "      <td>42</td>\n",
              "      <td>5618</td>\n",
              "      <td>0</td>\n",
              "      <td>0</td>\n",
              "      <td>0</td>\n",
              "      <td>1</td>\n",
              "    </tr>\n",
              "    <tr>\n",
              "      <th>1</th>\n",
              "      <td>320</td>\n",
              "      <td>4</td>\n",
              "      <td>4</td>\n",
              "      <td>0</td>\n",
              "      <td>20</td>\n",
              "      <td>1</td>\n",
              "      <td>0</td>\n",
              "      <td>1200</td>\n",
              "      <td>4960</td>\n",
              "      <td>1750</td>\n",
              "      <td>63</td>\n",
              "      <td>7973</td>\n",
              "      <td>0</td>\n",
              "      <td>0</td>\n",
              "      <td>0</td>\n",
              "      <td>1</td>\n",
              "    </tr>\n",
              "    <tr>\n",
              "      <th>2</th>\n",
              "      <td>80</td>\n",
              "      <td>1</td>\n",
              "      <td>1</td>\n",
              "      <td>1</td>\n",
              "      <td>6</td>\n",
              "      <td>1</td>\n",
              "      <td>0</td>\n",
              "      <td>1000</td>\n",
              "      <td>2800</td>\n",
              "      <td>0</td>\n",
              "      <td>41</td>\n",
              "      <td>3841</td>\n",
              "      <td>0</td>\n",
              "      <td>1</td>\n",
              "      <td>0</td>\n",
              "      <td>0</td>\n",
              "    </tr>\n",
              "    <tr>\n",
              "      <th>3</th>\n",
              "      <td>51</td>\n",
              "      <td>2</td>\n",
              "      <td>1</td>\n",
              "      <td>0</td>\n",
              "      <td>2</td>\n",
              "      <td>1</td>\n",
              "      <td>0</td>\n",
              "      <td>270</td>\n",
              "      <td>1112</td>\n",
              "      <td>22</td>\n",
              "      <td>17</td>\n",
              "      <td>1421</td>\n",
              "      <td>0</td>\n",
              "      <td>1</td>\n",
              "      <td>0</td>\n",
              "      <td>0</td>\n",
              "    </tr>\n",
              "    <tr>\n",
              "      <th>4</th>\n",
              "      <td>25</td>\n",
              "      <td>1</td>\n",
              "      <td>1</td>\n",
              "      <td>0</td>\n",
              "      <td>1</td>\n",
              "      <td>0</td>\n",
              "      <td>0</td>\n",
              "      <td>0</td>\n",
              "      <td>800</td>\n",
              "      <td>25</td>\n",
              "      <td>11</td>\n",
              "      <td>836</td>\n",
              "      <td>0</td>\n",
              "      <td>0</td>\n",
              "      <td>0</td>\n",
              "      <td>1</td>\n",
              "    </tr>\n",
              "  </tbody>\n",
              "</table>\n",
              "</div>"
            ],
            "text/plain": [
              "   area  rooms  ...  city_Rio de Janeiro  city_São Paulo\n",
              "0    70      2  ...                    0               1\n",
              "1   320      4  ...                    0               1\n",
              "2    80      1  ...                    0               0\n",
              "3    51      2  ...                    0               0\n",
              "4    25      1  ...                    0               1\n",
              "\n",
              "[5 rows x 16 columns]"
            ]
          },
          "metadata": {
            "tags": []
          },
          "execution_count": 17
        }
      ]
    },
    {
      "cell_type": "markdown",
      "metadata": {
        "id": "cL1wE6yHiLWJ"
      },
      "source": [
        "Note: If all the city columns are zero in a row then, it belongs to the city Belo Horizonte because we had dropped that row to remove multicollinearity among all the one hot encoded city columns."
      ]
    },
    {
      "cell_type": "code",
      "metadata": {
        "id": "ANfNmsRPACvi"
      },
      "source": [
        "rent=rent_2"
      ],
      "execution_count": null,
      "outputs": []
    },
    {
      "cell_type": "markdown",
      "metadata": {
        "id": "W-bWV1suh6tL"
      },
      "source": [
        "As the 4 city columns are still of object type, let's just convert them using astype function."
      ]
    },
    {
      "cell_type": "code",
      "metadata": {
        "id": "CskWuJyQAOD1"
      },
      "source": [
        "rent[['city_Campinas','city_Porto Alegre','city_Rio de Janeiro','city_São Paulo']]=rent[['city_Campinas','city_Porto Alegre','city_Rio de Janeiro','city_São Paulo']].astype('int')"
      ],
      "execution_count": null,
      "outputs": []
    },
    {
      "cell_type": "code",
      "metadata": {
        "colab": {
          "base_uri": "https://localhost:8080/"
        },
        "id": "DGc8ymbOBU6P",
        "outputId": "d27533ea-3a3d-41c7-9883-a824a587339a"
      },
      "source": [
        "rent.head() # let's see our new modified dataset with all of the variables as integer type"
      ],
      "execution_count": null,
      "outputs": [
        {
          "output_type": "execute_result",
          "data": {
            "text/html": [
              "<div>\n",
              "<style scoped>\n",
              "    .dataframe tbody tr th:only-of-type {\n",
              "        vertical-align: middle;\n",
              "    }\n",
              "\n",
              "    .dataframe tbody tr th {\n",
              "        vertical-align: top;\n",
              "    }\n",
              "\n",
              "    .dataframe thead th {\n",
              "        text-align: right;\n",
              "    }\n",
              "</style>\n",
              "<table border=\"1\" class=\"dataframe\">\n",
              "  <thead>\n",
              "    <tr style=\"text-align: right;\">\n",
              "      <th></th>\n",
              "      <th>area</th>\n",
              "      <th>rooms</th>\n",
              "      <th>bathroom</th>\n",
              "      <th>parking spaces</th>\n",
              "      <th>floor</th>\n",
              "      <th>animal</th>\n",
              "      <th>furniture</th>\n",
              "      <th>hoa (R$)</th>\n",
              "      <th>rent amount (R$)</th>\n",
              "      <th>property tax (R$)</th>\n",
              "      <th>fire insurance (R$)</th>\n",
              "      <th>total (R$)</th>\n",
              "      <th>city_Campinas</th>\n",
              "      <th>city_Porto Alegre</th>\n",
              "      <th>city_Rio de Janeiro</th>\n",
              "      <th>city_São Paulo</th>\n",
              "    </tr>\n",
              "  </thead>\n",
              "  <tbody>\n",
              "    <tr>\n",
              "      <th>0</th>\n",
              "      <td>70</td>\n",
              "      <td>2</td>\n",
              "      <td>1</td>\n",
              "      <td>1</td>\n",
              "      <td>7</td>\n",
              "      <td>1</td>\n",
              "      <td>1</td>\n",
              "      <td>2065</td>\n",
              "      <td>3300</td>\n",
              "      <td>211</td>\n",
              "      <td>42</td>\n",
              "      <td>5618</td>\n",
              "      <td>0</td>\n",
              "      <td>0</td>\n",
              "      <td>0</td>\n",
              "      <td>1</td>\n",
              "    </tr>\n",
              "    <tr>\n",
              "      <th>1</th>\n",
              "      <td>320</td>\n",
              "      <td>4</td>\n",
              "      <td>4</td>\n",
              "      <td>0</td>\n",
              "      <td>20</td>\n",
              "      <td>1</td>\n",
              "      <td>0</td>\n",
              "      <td>1200</td>\n",
              "      <td>4960</td>\n",
              "      <td>1750</td>\n",
              "      <td>63</td>\n",
              "      <td>7973</td>\n",
              "      <td>0</td>\n",
              "      <td>0</td>\n",
              "      <td>0</td>\n",
              "      <td>1</td>\n",
              "    </tr>\n",
              "    <tr>\n",
              "      <th>2</th>\n",
              "      <td>80</td>\n",
              "      <td>1</td>\n",
              "      <td>1</td>\n",
              "      <td>1</td>\n",
              "      <td>6</td>\n",
              "      <td>1</td>\n",
              "      <td>0</td>\n",
              "      <td>1000</td>\n",
              "      <td>2800</td>\n",
              "      <td>0</td>\n",
              "      <td>41</td>\n",
              "      <td>3841</td>\n",
              "      <td>0</td>\n",
              "      <td>1</td>\n",
              "      <td>0</td>\n",
              "      <td>0</td>\n",
              "    </tr>\n",
              "    <tr>\n",
              "      <th>3</th>\n",
              "      <td>51</td>\n",
              "      <td>2</td>\n",
              "      <td>1</td>\n",
              "      <td>0</td>\n",
              "      <td>2</td>\n",
              "      <td>1</td>\n",
              "      <td>0</td>\n",
              "      <td>270</td>\n",
              "      <td>1112</td>\n",
              "      <td>22</td>\n",
              "      <td>17</td>\n",
              "      <td>1421</td>\n",
              "      <td>0</td>\n",
              "      <td>1</td>\n",
              "      <td>0</td>\n",
              "      <td>0</td>\n",
              "    </tr>\n",
              "    <tr>\n",
              "      <th>4</th>\n",
              "      <td>25</td>\n",
              "      <td>1</td>\n",
              "      <td>1</td>\n",
              "      <td>0</td>\n",
              "      <td>1</td>\n",
              "      <td>0</td>\n",
              "      <td>0</td>\n",
              "      <td>0</td>\n",
              "      <td>800</td>\n",
              "      <td>25</td>\n",
              "      <td>11</td>\n",
              "      <td>836</td>\n",
              "      <td>0</td>\n",
              "      <td>0</td>\n",
              "      <td>0</td>\n",
              "      <td>1</td>\n",
              "    </tr>\n",
              "  </tbody>\n",
              "</table>\n",
              "</div>"
            ],
            "text/plain": [
              "   area  rooms  ...  city_Rio de Janeiro  city_São Paulo\n",
              "0    70      2  ...                    0               1\n",
              "1   320      4  ...                    0               1\n",
              "2    80      1  ...                    0               0\n",
              "3    51      2  ...                    0               0\n",
              "4    25      1  ...                    0               1\n",
              "\n",
              "[5 rows x 16 columns]"
            ]
          },
          "metadata": {
            "tags": []
          },
          "execution_count": 20
        }
      ]
    },
    {
      "cell_type": "code",
      "metadata": {
        "colab": {
          "base_uri": "https://localhost:8080/"
        },
        "id": "R69-AeLOBWpQ",
        "outputId": "d8254cad-a83e-4291-cf72-ae9330ee6471"
      },
      "source": [
        "rent.dtypes"
      ],
      "execution_count": null,
      "outputs": [
        {
          "output_type": "execute_result",
          "data": {
            "text/plain": [
              "area                   int64\n",
              "rooms                  int64\n",
              "bathroom               int64\n",
              "parking spaces         int64\n",
              "floor                  int64\n",
              "animal                 int64\n",
              "furniture              int64\n",
              "hoa (R$)               int64\n",
              "rent amount (R$)       int64\n",
              "property tax (R$)      int64\n",
              "fire insurance (R$)    int64\n",
              "total (R$)             int64\n",
              "city_Campinas          int64\n",
              "city_Porto Alegre      int64\n",
              "city_Rio de Janeiro    int64\n",
              "city_São Paulo         int64\n",
              "dtype: object"
            ]
          },
          "metadata": {
            "tags": []
          },
          "execution_count": 21
        }
      ]
    },
    {
      "cell_type": "markdown",
      "metadata": {
        "id": "VExwTtctBqEC"
      },
      "source": [
        "# **Data Exploration(2)**"
      ]
    },
    {
      "cell_type": "markdown",
      "metadata": {
        "id": "gE-zSoZJDbXf"
      },
      "source": [
        "Let's remove some outliers as they'll hamper our model later on."
      ]
    },
    {
      "cell_type": "code",
      "metadata": {
        "colab": {
          "base_uri": "https://localhost:8080/"
        },
        "id": "tFXnw2yWDVon",
        "outputId": "b10fd11f-532a-48d7-c5e2-a791a14fc459"
      },
      "source": [
        "sns.boxplot(rent['rent amount (R$)']) #create a boxplot to see the distribution of rent amount"
      ],
      "execution_count": null,
      "outputs": [
        {
          "output_type": "stream",
          "text": [
            "/usr/local/lib/python3.6/dist-packages/seaborn/_decorators.py:43: FutureWarning: Pass the following variable as a keyword arg: x. From version 0.12, the only valid positional argument will be `data`, and passing other arguments without an explicit keyword will result in an error or misinterpretation.\n",
            "  FutureWarning\n"
          ],
          "name": "stderr"
        },
        {
          "output_type": "execute_result",
          "data": {
            "text/plain": [
              "<matplotlib.axes._subplots.AxesSubplot at 0x7f679242bc50>"
            ]
          },
          "metadata": {
            "tags": []
          },
          "execution_count": 22
        },
        {
          "output_type": "display_data",
          "data": {
            "image/png": "[encoded data removed]",
            "text/plain": [
              "<Figure size 432x288 with 1 Axes>"
            ]
          },
          "metadata": {
            "tags": [],
            "needs_background": "light"
          }
        }
      ]
    },
    {
      "cell_type": "markdown",
      "metadata": {
        "id": "l4eMPd9NjHtB"
      },
      "source": [
        "As we can see that, most of our data points are concentrated within 20,000."
      ]
    },
    {
      "cell_type": "code",
      "metadata": {
        "colab": {
          "base_uri": "https://localhost:8080/"
        },
        "id": "d0uFGkXkEu8g",
        "outputId": "62d3ef86-03e9-400c-a571-83e8b66c5aa8"
      },
      "source": [
        "sns.boxplot(rent[rent['rent amount (R$)']<20000]['rent amount (R$)'])"
      ],
      "execution_count": null,
      "outputs": [
        {
          "output_type": "stream",
          "text": [
            "/usr/local/lib/python3.6/dist-packages/seaborn/_decorators.py:43: FutureWarning: Pass the following variable as a keyword arg: x. From version 0.12, the only valid positional argument will be `data`, and passing other arguments without an explicit keyword will result in an error or misinterpretation.\n",
            "  FutureWarning\n"
          ],
          "name": "stderr"
        },
        {
          "output_type": "execute_result",
          "data": {
            "text/plain": [
              "<matplotlib.axes._subplots.AxesSubplot at 0x7f6791f82710>"
            ]
          },
          "metadata": {
            "tags": []
          },
          "execution_count": 23
        },
        {
          "output_type": "display_data",
          "data": {
            "image/png": "[encoded data removed]",
            "text/plain": [
              "<Figure size 432x288 with 1 Axes>"
            ]
          },
          "metadata": {
            "tags": [],
            "needs_background": "light"
          }
        }
      ]
    },
    {
      "cell_type": "code",
      "metadata": {
        "colab": {
          "base_uri": "https://localhost:8080/"
        },
        "id": "qNFGUYEnDV9f",
        "outputId": "9daf7f5d-46fa-4ab2-f1ce-fbbc7b33a056"
      },
      "source": [
        "rent[rent['rent amount (R$)']<20000].shape # to see how many outliers are there(more than 20,000)"
      ],
      "execution_count": null,
      "outputs": [
        {
          "output_type": "execute_result",
          "data": {
            "text/plain": [
              "(10683, 16)"
            ]
          },
          "metadata": {
            "tags": []
          },
          "execution_count": 24
        }
      ]
    },
    {
      "cell_type": "markdown",
      "metadata": {
        "id": "l6ZvuuD6FELU"
      },
      "source": [
        "**So now we'll remove the 9 outliers which have rent amount more than 20,000.**"
      ]
    },
    {
      "cell_type": "code",
      "metadata": {
        "id": "iytkCW-eJ6zx"
      },
      "source": [
        "rent=rent[rent['rent amount (R$)']<20000] #removed the outliers"
      ],
      "execution_count": null,
      "outputs": []
    },
    {
      "cell_type": "markdown",
      "metadata": {
        "id": "MpDBfU47kBAx"
      },
      "source": [
        "Now we'll plot the heatmap of the correlation of all the columns to see which columns have high correlation with the rent amount columns."
      ]
    },
    {
      "cell_type": "code",
      "metadata": {
        "colab": {
          "base_uri": "https://localhost:8080/"
        },
        "id": "iynsDWBUByc-",
        "outputId": "7438b808-9c46-41ac-dd70-822d43476bb8"
      },
      "source": [
        "import matplotlib.pyplot as plt\n",
        "plt.figure(figsize=(15,15))\n",
        "sns.heatmap(data=rent.corr(),annot=True,cmap='Greens')"
      ],
      "execution_count": null,
      "outputs": [
        {
          "output_type": "execute_result",
          "data": {
            "text/plain": [
              "<matplotlib.axes._subplots.AxesSubplot at 0x7f67914b6358>"
            ]
          },
          "metadata": {
            "tags": []
          },
          "execution_count": 26
        },
        {
          "output_type": "display_data",
          "data": {
            "image/png": "[encoded data removed]",
            "text/plain": [
              "<Figure size 1080x1080 with 2 Axes>"
            ]
          },
          "metadata": {
            "tags": [],
            "needs_background": "light"
          }
        }
      ]
    },
    {
      "cell_type": "markdown",
      "metadata": {
        "id": "ddyRuRPXkU7k"
      },
      "source": [
        "From the heatmap we can only see the correlation but not the p-value of the correlations. So for that we'll import scipy.stats. Also one thing to remember is that correlation is important only when we're finding it for two numerical variables. If one of them is categorical then it doesn't matter."
      ]
    },
    {
      "cell_type": "code",
      "metadata": {
        "colab": {
          "base_uri": "https://localhost:8080/"
        },
        "id": "Kwx48tzPHazE",
        "outputId": "83831657-b05b-403c-9428-c11f37fb7263"
      },
      "source": [
        "import scipy.stats\n",
        "scipy.stats.pearsonr(rent['rent amount (R$)'],rent['area'])"
      ],
      "execution_count": null,
      "outputs": [
        {
          "output_type": "execute_result",
          "data": {
            "text/plain": [
              "(0.18088444405035398, 2.968642792556281e-79)"
            ]
          },
          "metadata": {
            "tags": []
          },
          "execution_count": 27
        }
      ]
    },
    {
      "cell_type": "markdown",
      "metadata": {
        "id": "SKxOrgCGH1Q4"
      },
      "source": [
        "It has a low correlation so it can be dropped but we'll build a model including this as well and then we'll compare the results. As it has a very low p value, it's statistically significant correlation."
      ]
    },
    {
      "cell_type": "code",
      "metadata": {
        "colab": {
          "base_uri": "https://localhost:8080/"
        },
        "id": "kLA8RuiAHzm0",
        "outputId": "7f2fd7a7-df75-4c64-b226-6d299d476c44"
      },
      "source": [
        "print(scipy.stats.pearsonr(rent['rent amount (R$)'],rent['rooms']))\n",
        "print(scipy.stats.pearsonr(rent['rent amount (R$)'],rent['bathroom']))\n",
        "print(scipy.stats.pearsonr(rent['rent amount (R$)'],rent['parking spaces']))"
      ],
      "execution_count": null,
      "outputs": [
        {
          "output_type": "stream",
          "text": [
            "(0.5462355709633167, 0.0)\n",
            "(0.6733545755685002, 0.0)\n",
            "(0.5794011061179758, 0.0)\n"
          ],
          "name": "stdout"
        }
      ]
    },
    {
      "cell_type": "markdown",
      "metadata": {
        "id": "USkmCQ87IKPc"
      },
      "source": [
        "As all of these have high corr values with zero p value(100% confidence level). We will keep these features."
      ]
    },
    {
      "cell_type": "code",
      "metadata": {
        "colab": {
          "base_uri": "https://localhost:8080/"
        },
        "id": "NDqeeec-IGfL",
        "outputId": "d4913504-f24d-47dd-f1a9-29bc0219b44b"
      },
      "source": [
        "print(scipy.stats.pearsonr(rent['rent amount (R$)'],rent['hoa (R$)']))\n",
        "print(scipy.stats.pearsonr(rent['rent amount (R$)'],rent['property tax (R$)']))"
      ],
      "execution_count": null,
      "outputs": [
        {
          "output_type": "stream",
          "text": [
            "(0.03173747149391415, 0.0010351930048582922)\n",
            "(0.10557467808568241, 7.30934490831087e-28)\n"
          ],
          "name": "stdout"
        }
      ]
    },
    {
      "cell_type": "markdown",
      "metadata": {
        "id": "x1bg8BamI3X8"
      },
      "source": [
        "We can drop hoa and property tax columns because these have statistically significant(low p-value) low correlation values. We can drop hoa column with 99.9% confidence and property tax column with almost 100% confidence."
      ]
    },
    {
      "cell_type": "code",
      "metadata": {
        "colab": {
          "base_uri": "https://localhost:8080/"
        },
        "id": "j_GV1bpnIzuR",
        "outputId": "5eecf1e6-97ce-4911-fb2f-bfa19ce0eb32"
      },
      "source": [
        "print(scipy.stats.pearsonr(rent['rent amount (R$)'],rent['fire insurance (R$)']))"
      ],
      "execution_count": null,
      "outputs": [
        {
          "output_type": "stream",
          "text": [
            "(0.987019905348627, 0.0)\n"
          ],
          "name": "stdout"
        }
      ]
    },
    {
      "cell_type": "markdown",
      "metadata": {
        "id": "fkhcLOUGJBIc"
      },
      "source": [
        "Although it has high correlation with low p value, it should be independent of rent amount. Probably it is some percent of rent amount, so once rent amount is fixed, fire insurance is some percent of it. So we should not use fire insurance to predict the rent amount."
      ]
    },
    {
      "cell_type": "markdown",
      "metadata": {
        "id": "vGKPObLsmDqz"
      },
      "source": [
        "Now we'll be checking if the categorical columns are important predictors or not by first plotting a boxplot and then using one way anova as we did it with floor column."
      ]
    },
    {
      "cell_type": "code",
      "metadata": {
        "colab": {
          "base_uri": "https://localhost:8080/"
        },
        "id": "dtZw2GGFI_4i",
        "outputId": "0799521c-c8b1-4fda-ac8b-e211afdbabdc"
      },
      "source": [
        "plt.figure(figsize=(5,5))\n",
        "z=rent['rent amount (R$)']\n",
        "sns.boxplot(data=rent,x=rent['furniture'],y=z)"
      ],
      "execution_count": null,
      "outputs": [
        {
          "output_type": "execute_result",
          "data": {
            "text/plain": [
              "<matplotlib.axes._subplots.AxesSubplot at 0x7f678eb9a390>"
            ]
          },
          "metadata": {
            "tags": []
          },
          "execution_count": 31
        },
        {
          "output_type": "display_data",
          "data": {
            "image/png": "[encoded data removed]",
            "text/plain": [
              "<Figure size 360x360 with 1 Axes>"
            ]
          },
          "metadata": {
            "tags": [],
            "needs_background": "light"
          }
        }
      ]
    },
    {
      "cell_type": "code",
      "metadata": {
        "colab": {
          "base_uri": "https://localhost:8080/"
        },
        "id": "l9ei0vTMJvQu",
        "outputId": "8ea6c763-e8e0-416d-bd61-326de84fcd68"
      },
      "source": [
        "grouped_furniture=rent[['furniture','rent amount (R$)']].groupby(['furniture'])\n",
        "f_val, p_val=stats.f_oneway(grouped_furniture.get_group(1)['rent amount (R$)'],grouped_furniture.get_group(0)['rent amount (R$)'])\n",
        "print('F score is: ',f_val)\n",
        "print('p value is: ',p_val)"
      ],
      "execution_count": null,
      "outputs": [
        {
          "output_type": "stream",
          "text": [
            "F score is:  311.2654343361237\n",
            "p value is:  1.0862305662600106e-68\n"
          ],
          "name": "stdout"
        }
      ]
    },
    {
      "cell_type": "markdown",
      "metadata": {
        "id": "X-NLbEc3KgTU"
      },
      "source": [
        "Furniture is an important predictor with 100% confidence as it has a high F_score with almost zero p-value."
      ]
    },
    {
      "cell_type": "code",
      "metadata": {
        "colab": {
          "base_uri": "https://localhost:8080/"
        },
        "id": "8fz58AGWKegC",
        "outputId": "66af62a7-6bf4-4eef-dfa3-7a2784d7f959"
      },
      "source": [
        "plt.figure(figsize=(5,5))\n",
        "z=rent['rent amount (R$)']\n",
        "sns.boxplot(data=rent,x=rent['animal'],y=z)"
      ],
      "execution_count": null,
      "outputs": [
        {
          "output_type": "execute_result",
          "data": {
            "text/plain": [
              "<matplotlib.axes._subplots.AxesSubplot at 0x7f67914aad68>"
            ]
          },
          "metadata": {
            "tags": []
          },
          "execution_count": 33
        },
        {
          "output_type": "display_data",
          "data": {
            "image/png": "[encoded data removed]",
            "text/plain": [
              "<Figure size 360x360 with 1 Axes>"
            ]
          },
          "metadata": {
            "tags": [],
            "needs_background": "light"
          }
        }
      ]
    },
    {
      "cell_type": "code",
      "metadata": {
        "colab": {
          "base_uri": "https://localhost:8080/"
        },
        "id": "ph5GsVAuKlhk",
        "outputId": "a7afc461-18ea-4cf1-874a-c3a07b5169c0"
      },
      "source": [
        "grouped_animal=rent[['animal','rent amount (R$)']].groupby(['animal'])\n",
        "f_val, p_val=stats.f_oneway(grouped_animal.get_group(1)['rent amount (R$)'],grouped_animal.get_group(0)['rent amount (R$)'])\n",
        "print('F score is: ',f_val)\n",
        "print('p value is: ',p_val)"
      ],
      "execution_count": null,
      "outputs": [
        {
          "output_type": "stream",
          "text": [
            "F score is:  48.59541122557756\n",
            "p value is:  3.33176534250187e-12\n"
          ],
          "name": "stdout"
        }
      ]
    },
    {
      "cell_type": "markdown",
      "metadata": {
        "id": "_o4OJdJ3K0E5"
      },
      "source": [
        "Animal should also be kept as it has a high F_score along with almost zero p-value."
      ]
    },
    {
      "cell_type": "markdown",
      "metadata": {
        "id": "LKBuJ9W9m1KQ"
      },
      "source": [
        "Now we'll be plotting a bar plot rent amount vs floors to see if there are any trends."
      ]
    },
    {
      "cell_type": "code",
      "metadata": {
        "colab": {
          "base_uri": "https://localhost:8080/"
        },
        "id": "lB-tCONsKye-",
        "outputId": "0378f8ff-2669-45ed-b6d3-0befd9a5f611"
      },
      "source": [
        "plt.figure(figsize=(10,13))\n",
        "sns.barplot(x=rent.floor,y=rent['rent amount (R$)'])"
      ],
      "execution_count": null,
      "outputs": [
        {
          "output_type": "execute_result",
          "data": {
            "text/plain": [
              "<matplotlib.axes._subplots.AxesSubplot at 0x7f678d103518>"
            ]
          },
          "metadata": {
            "tags": []
          },
          "execution_count": 35
        },
        {
          "output_type": "display_data",
          "data": {
            "image/png": "[encoded data removed]",
            "text/plain": [
              "<Figure size 720x936 with 1 Axes>"
            ]
          },
          "metadata": {
            "tags": [],
            "needs_background": "light"
          }
        }
      ]
    },
    {
      "cell_type": "markdown",
      "metadata": {
        "id": "u306fS6CLXMY"
      },
      "source": [
        "As we can see that, most floors are below 50, we'll remove the outliers i.e. datapoints which are on floors above 50. So we'll be removing only 2 datapoints."
      ]
    },
    {
      "cell_type": "code",
      "metadata": {
        "id": "iPxKS5dYLWAc"
      },
      "source": [
        "rent=rent[rent.floor<50] # removing outliers"
      ],
      "execution_count": null,
      "outputs": []
    },
    {
      "cell_type": "markdown",
      "metadata": {
        "id": "qunTlX4Tnjy5"
      },
      "source": [
        "We'll also bin the floors because they're categorical variables but there are too many of them so binning will help us convert them into certain groups and then we'll do a one way anova test on the bins to see if they've varying mean rent amount or not."
      ]
    },
    {
      "cell_type": "markdown",
      "metadata": {
        "id": "nfXivlOsMXQ3"
      },
      "source": [
        "**FLOOR BINNING**"
      ]
    },
    {
      "cell_type": "markdown",
      "metadata": {
        "id": "iaFWFbw6XYOI"
      },
      "source": [
        "I have binned floor zero as 0, floor 1-10 as 1,floor 11-20 as 2 and 21-50 as 3."
      ]
    },
    {
      "cell_type": "code",
      "metadata": {
        "id": "h6hN459pMVlb"
      },
      "source": [
        "bins=[-1,0,10,20,50]\n",
        "group_names = [0,1,2,3]\n",
        "rent['floor-binned']=pd.cut(rent['floor'],bins,labels=group_names)"
      ],
      "execution_count": null,
      "outputs": []
    },
    {
      "cell_type": "code",
      "metadata": {
        "colab": {
          "base_uri": "https://localhost:8080/"
        },
        "id": "PsWWFnWrOuRF",
        "outputId": "db913f7b-18c9-4cc2-ab99-00fc37ce2af3"
      },
      "source": [
        "grouped_floor=rent[['floor-binned','rent amount (R$)']].groupby(['floor-binned'])\n",
        "f_val, p_val=stats.f_oneway(grouped_floor.get_group(0)['rent amount (R$)'],grouped_floor.get_group(1)['rent amount (R$)'],grouped_floor.get_group(2)['rent amount (R$)'],grouped_floor.get_group(3)['rent amount (R$)'])\n",
        "print('F score is: ',f_val)\n",
        "print('p value is: ',p_val)"
      ],
      "execution_count": null,
      "outputs": [
        {
          "output_type": "stream",
          "text": [
            "F score is:  209.66947639254272\n",
            "p value is:  3.7507269687526314e-132\n"
          ],
          "name": "stdout"
        }
      ]
    },
    {
      "cell_type": "markdown",
      "metadata": {
        "id": "lT8iwSP6oVzK"
      },
      "source": [
        "As we can see we've a high F_score with almost zero p-value, we can conclude that our binning was successful."
      ]
    },
    {
      "cell_type": "code",
      "metadata": {
        "colab": {
          "base_uri": "https://localhost:8080/"
        },
        "id": "r856gOQuPLeG",
        "outputId": "961f737a-8028-462d-bf8f-c44df2385423"
      },
      "source": [
        "sns.barplot(x=rent['floor-binned'],y=rent['rent amount (R$)']) # to see mean rent amount of various bins"
      ],
      "execution_count": null,
      "outputs": [
        {
          "output_type": "execute_result",
          "data": {
            "text/plain": [
              "<matplotlib.axes._subplots.AxesSubplot at 0x7f678cfabe80>"
            ]
          },
          "metadata": {
            "tags": []
          },
          "execution_count": 39
        },
        {
          "output_type": "display_data",
          "data": {
            "image/png": "[encoded data removed]",
            "text/plain": [
              "<Figure size 432x288 with 1 Axes>"
            ]
          },
          "metadata": {
            "tags": [],
            "needs_background": "light"
          }
        }
      ]
    },
    {
      "cell_type": "markdown",
      "metadata": {
        "id": "mAp9ePpRPjX5"
      },
      "source": [
        "SO finally we drop the features according to our analysis."
      ]
    },
    {
      "cell_type": "markdown",
      "metadata": {
        "id": "2-wqNBrEz7iw"
      },
      "source": [
        "Another thing to note is, if we add hoa, property tax, fire insurance and rent amount column, we get rent total column. So we'll be dropping the rent total column as well as we want to predict the rent amount column."
      ]
    },
    {
      "cell_type": "code",
      "metadata": {
        "id": "ICLRUcjWPhSW"
      },
      "source": [
        "features_1=['area','rooms','bathroom','parking spaces','furniture','rent amount (R$)','floor-binned','city_Campinas','city_Porto Alegre','city_Rio de Janeiro','city_São Paulo','animal']\n",
        "features_2=['rooms','bathroom','parking spaces','furniture','rent amount (R$)','floor-binned','city_Campinas','city_Porto Alegre','city_Rio de Janeiro','city_São Paulo','animal']\n",
        "rent1=rent[features_1] #dataset with area column considered\n",
        "rent2=rent[features_2] #dataset wher we dropped the area column"
      ],
      "execution_count": null,
      "outputs": []
    },
    {
      "cell_type": "markdown",
      "metadata": {
        "id": "o7BG0nfDabol"
      },
      "source": [
        "**Rent 1 is our dataset after feature extraction including area column and Rent 2 is the one without the area column. We'll train models using both dataset and check which performs better.**"
      ]
    },
    {
      "cell_type": "markdown",
      "metadata": {
        "id": "cfRyEFjvQinP"
      },
      "source": [
        "# **Linear Regression** #"
      ]
    },
    {
      "cell_type": "markdown",
      "metadata": {
        "id": "jrQWi8cYqwPV"
      },
      "source": [
        "Importing required packages to split our data(into train and test data), build machine learning models, check r2_score and then optimize our models to improve R^2 score."
      ]
    },
    {
      "cell_type": "code",
      "metadata": {
        "id": "qpPJPNnoQwlz"
      },
      "source": [
        "from sklearn.linear_model import LinearRegression     #  package to build linear regression model without regularization\n",
        "from sklearn.model_selection import train_test_split  # package to split our data into training data and test data\n",
        "from sklearn.metrics import mean_absolute_error,mean_squared_error,r2_score  #packages to measure accuracy of our ml models\n",
        "from sklearn.model_selection import GridSearchCV   # package to tune our models\n",
        "from sklearn.model_selection import cross_val_score  # package to find cross validation score of our models"
      ],
      "execution_count": null,
      "outputs": []
    },
    {
      "cell_type": "markdown",
      "metadata": {
        "id": "OKnfVebotuMp"
      },
      "source": [
        "Let's split our data into predictor set(X) and target variable set(y)."
      ]
    },
    {
      "cell_type": "code",
      "metadata": {
        "id": "YnsOnEq0RDYx"
      },
      "source": [
        "cols1 = ['area','city_Campinas','city_Porto Alegre','city_Rio de Janeiro','city_São Paulo', 'rooms', 'bathroom', 'parking spaces','animal','furniture','floor-binned']\n",
        "cols2 = ['city_Campinas','city_Porto Alegre','city_Rio de Janeiro','city_São Paulo', 'rooms', 'bathroom', 'parking spaces','animal','furniture','floor-binned']\n",
        "X1=rent1[cols1] #predictor set 1\n",
        "X2=rent2[cols2] #predictor set 2\n",
        "y1=rent1[['rent amount (R$)']] #target set 1\n",
        "y2=rent2[['rent amount (R$)']] #target set 2"
      ],
      "execution_count": null,
      "outputs": []
    },
    {
      "cell_type": "markdown",
      "metadata": {
        "id": "PScqkh_xuiN7"
      },
      "source": [
        "Now we'll split our data sets into training dat(70% of data) and test data(30% data)."
      ]
    },
    {
      "cell_type": "code",
      "metadata": {
        "id": "uDW6efqXRrlR"
      },
      "source": [
        "X1_train,X1_test,y1_train,y1_test=train_test_split(X1,y1,test_size=0.3,random_state=1)\n",
        "X2_train,X2_test,y2_train,y2_test=train_test_split(X2,y2,test_size=0.3,random_state=1)"
      ],
      "execution_count": null,
      "outputs": []
    },
    {
      "cell_type": "markdown",
      "metadata": {
        "id": "93B9Nz2Nu2Th"
      },
      "source": [
        "Now we build our linear regression model."
      ]
    },
    {
      "cell_type": "code",
      "metadata": {
        "colab": {
          "base_uri": "https://localhost:8080/"
        },
        "id": "EHcLxq7zRyyP",
        "outputId": "eddf42e9-c564-4455-c376-b7961d8368c1"
      },
      "source": [
        "Linear_Regression_Model=LinearRegression()  # create linear regression object\n",
        "Linear_Regression_Model.fit(X1_train,y1_train)  # fit our training data(X1,y1) in the model\n",
        "prediction=Linear_Regression_Model.predict(X1_test)  # predict on test data using our built model\n",
        "print(mean_absolute_error(prediction,y1_test))       # printing mean absolute error\n",
        "print(np.sqrt(mean_squared_error(y1_test, prediction))) #printing mean squared error\n",
        "print(r2_score(y1_test,prediction))  # printing R2_score of our model"
      ],
      "execution_count": null,
      "outputs": [
        {
          "output_type": "stream",
          "text": [
            "1540.5715170190563\n",
            "2299.241450664071\n",
            "0.5369691832125913\n"
          ],
          "name": "stdout"
        }
      ]
    },
    {
      "cell_type": "markdown",
      "metadata": {
        "id": "4m-Ck40YwF2i"
      },
      "source": [
        "Now we'll use cross validation to get more accurate R2_score results for our model."
      ]
    },
    {
      "cell_type": "markdown",
      "metadata": {
        "id": "7EDp-g6t9gMK"
      },
      "source": [
        "This is for the data using area column(X1)."
      ]
    },
    {
      "cell_type": "code",
      "metadata": {
        "colab": {
          "base_uri": "https://localhost:8080/"
        },
        "id": "K3dmn2CAR50Q",
        "outputId": "1c215972-943b-45c7-a0a1-39966be8b6c2"
      },
      "source": [
        "reg=LinearRegression()\n",
        "k=5   # we'll be splitting our dataset into 5 parts for our cross validation\n",
        "cv_result=cross_val_score(reg,X1,y1,cv=k)\n",
        "print('CV Scores: ',cv_result) # to see our r2_scores of each model\n",
        "print('CV scores average: ',np.sum(cv_result)/k) # to get average r2-scores of the 5 models"
      ],
      "execution_count": null,
      "outputs": [
        {
          "output_type": "stream",
          "text": [
            "CV Scores:  [0.54142372 0.50051718 0.52412951 0.52427177 0.53017911]\n",
            "CV scores average:  0.5241042567214171\n"
          ],
          "name": "stdout"
        }
      ]
    },
    {
      "cell_type": "markdown",
      "metadata": {
        "id": "_N3-qFwt9l5H"
      },
      "source": [
        "This model below is for dataset without area column(X2)"
      ]
    },
    {
      "cell_type": "code",
      "metadata": {
        "colab": {
          "base_uri": "https://localhost:8080/"
        },
        "id": "UMf2GwuidrMm",
        "outputId": "25069a75-abee-4e4c-9ecd-11fb55c813c7"
      },
      "source": [
        "reg=LinearRegression()\n",
        "k=5\n",
        "cv_result=cross_val_score(reg,X2,y2,cv=k)\n",
        "print('CV Scores: ',cv_result)\n",
        "print('CV scores average: ',np.sum(cv_result)/k)"
      ],
      "execution_count": null,
      "outputs": [
        {
          "output_type": "stream",
          "text": [
            "CV Scores:  [0.54050375 0.53145534 0.52331543 0.52330372 0.5292388 ]\n",
            "CV scores average:  0.5295634077232383\n"
          ],
          "name": "stdout"
        }
      ]
    },
    {
      "cell_type": "markdown",
      "metadata": {
        "id": "CgRMtl5XSE8e"
      },
      "source": [
        "**Ridge Regression**: Here we'll build our Ridge regression model., one for X1 and another for X2."
      ]
    },
    {
      "cell_type": "code",
      "metadata": {
        "colab": {
          "base_uri": "https://localhost:8080/"
        },
        "id": "5Vi1v6hSSImg",
        "outputId": "ae17b515-918a-4b1e-fcef-4af2f0d45a98"
      },
      "source": [
        "from sklearn.linear_model import Ridge\n",
        "Lambda=[{'alpha':[0.0001, 0.001, 0.01, 0.1, 1, 10, 100, 1000, 10000, 100000, 100000]}]\n",
        "ridge=Ridge(alpha=1,normalize=True)\n",
        "ridge_cv=GridSearchCV(ridge,Lambda,cv=5)\n",
        "ridge_cv.fit(X1,y1)\n",
        "print(\"Tuned hyperparameter lambda: {}\".format(ridge_cv.best_params_)) \n",
        "print(\"Best score: {}\".format(ridge_cv.best_score_))"
      ],
      "execution_count": null,
      "outputs": [
        {
          "output_type": "stream",
          "text": [
            "Tuned hyperparameter lambda: {'alpha': 0.0001}\n",
            "Best score: 0.5241037606879624\n"
          ],
          "name": "stdout"
        }
      ]
    },
    {
      "cell_type": "code",
      "metadata": {
        "colab": {
          "base_uri": "https://localhost:8080/"
        },
        "id": "4J0UJGSxd-qE",
        "outputId": "81fa5813-6eaf-4112-de6b-b131e7d491da"
      },
      "source": [
        "ridge=Ridge(alpha=1,normalize=True)\n",
        "ridge_cv=GridSearchCV(ridge,Lambda,cv=5)\n",
        "ridge_cv.fit(X2,y2)\n",
        "print(\"Tuned hyperparameter lambda: {}\".format(ridge_cv.best_params_)) \n",
        "print(\"Best score: {}\".format(ridge_cv.best_score_))"
      ],
      "execution_count": null,
      "outputs": [
        {
          "output_type": "stream",
          "text": [
            "Tuned hyperparameter lambda: {'alpha': 0.001}\n",
            "Best score: 0.5295644484922057\n"
          ],
          "name": "stdout"
        }
      ]
    },
    {
      "cell_type": "markdown",
      "metadata": {
        "id": "YoV-nW3KSc5Z"
      },
      "source": [
        "**Lasso Regression**: Here we'll build our Lasso regression model."
      ]
    },
    {
      "cell_type": "code",
      "metadata": {
        "colab": {
          "base_uri": "https://localhost:8080/"
        },
        "id": "Pj-0S-tSSg3O",
        "outputId": "9e46c58d-3487-4884-cc5f-04a34aa5e3a7"
      },
      "source": [
        "from sklearn.linear_model import Lasso\n",
        "Lambda=[{'alpha':[0.0001, 0.001, 0.01, 0.1, 1, 10, 100, 1000, 10000, 100000, 100000]}]\n",
        "lasso=Lasso(alpha=1,normalize=True)\n",
        "lasso_cv=GridSearchCV(lasso,Lambda,cv=5)\n",
        "lasso_cv.fit(X1,y1)\n",
        "print(\"Tuned hyperparameter lambda: {}\".format(lasso_cv.best_params_)) \n",
        "print(\"Best score: {}\".format(lasso_cv.best_score_))"
      ],
      "execution_count": null,
      "outputs": [
        {
          "output_type": "stream",
          "text": [
            "Tuned hyperparameter lambda: {'alpha': 0.1}\n",
            "Best score: 0.5243935221971755\n"
          ],
          "name": "stdout"
        }
      ]
    },
    {
      "cell_type": "code",
      "metadata": {
        "colab": {
          "base_uri": "https://localhost:8080/"
        },
        "id": "DLbDIl1neMUz",
        "outputId": "3fa64aaf-2c33-4a04-9767-33e38ce2fd25"
      },
      "source": [
        "Lambda=[{'alpha':[0.0001, 0.001, 0.01, 0.1, 1, 10, 100, 1000, 10000, 100000, 100000]}]\n",
        "lasso=Lasso(alpha=1,normalize=True)\n",
        "lasso_cv=GridSearchCV(lasso,Lambda,cv=5)\n",
        "lasso_cv.fit(X2,y2)\n",
        "print(\"Tuned hyperparameter lambda: {}\".format(lasso_cv.best_params_)) \n",
        "print(\"Best score: {}\".format(lasso_cv.best_score_))"
      ],
      "execution_count": null,
      "outputs": [
        {
          "output_type": "stream",
          "text": [
            "Tuned hyperparameter lambda: {'alpha': 0.0001}\n",
            "Best score: 0.529563405973173\n"
          ],
          "name": "stdout"
        }
      ]
    },
    {
      "cell_type": "markdown",
      "metadata": {
        "id": "GhFmHUckZZ-P"
      },
      "source": [
        "From all the models above, ridge regression using X2 dataset performed the best with a r2_score of 0.529564"
      ]
    },
    {
      "cell_type": "markdown",
      "metadata": {
        "id": "s-GxWCsBSoSr"
      },
      "source": [
        "# **KNN Regression**"
      ]
    },
    {
      "cell_type": "code",
      "metadata": {
        "colab": {
          "base_uri": "https://localhost:8080/"
        },
        "id": "hcR8nrjpSkrA",
        "outputId": "61687f4f-4c57-4e08-91cf-d230f864fb01"
      },
      "source": [
        "from sklearn.neighbors import KNeighborsRegressor #importing package to build our knn regression model\n",
        "knn=KNeighborsRegressor(n_neighbors=5)            #building model with a random n_neighbours value which we will tune later\n",
        "knn.fit(X1_train,y1_train)                        #used the X1 dataset\n",
        "knn.score(X1_test,y1_test)"
      ],
      "execution_count": null,
      "outputs": [
        {
          "output_type": "execute_result",
          "data": {
            "text/plain": [
              "0.5180344624627857"
            ]
          },
          "metadata": {
            "tags": []
          },
          "execution_count": 56
        }
      ]
    },
    {
      "cell_type": "code",
      "metadata": {
        "colab": {
          "base_uri": "https://localhost:8080/"
        },
        "id": "SMiHocSg2Uul",
        "outputId": "ee9a1afc-16e4-425d-dcf8-e8db052429bd"
      },
      "source": [
        "Neighbours={'n_neighbors':list(range(1,50))}     #Creating a list of n_neighbours value from which we will choose a value which gives us the highest r2_score from our knn model\n",
        "knn=KNeighborsRegressor()\n",
        "knn_cv=GridSearchCV(knn, Neighbours, cv=5)       # Running grid search to find the optimum value for n_neighbours parameter\n",
        "knn_cv.fit(X1,y1)                                #fitting our X1 dataset\n",
        "print(\"Tuned hyperparameter k: {}\".format(knn_cv.best_params_)) \n",
        "print(\"Best score: {}\".format(knn_cv.best_score_))"
      ],
      "execution_count": null,
      "outputs": [
        {
          "output_type": "stream",
          "text": [
            "Tuned hyperparameter k: {'n_neighbors': 33}\n",
            "Best score: 0.5508238500349979\n"
          ],
          "name": "stdout"
        }
      ]
    },
    {
      "cell_type": "code",
      "metadata": {
        "colab": {
          "base_uri": "https://localhost:8080/"
        },
        "id": "lPkluiwdisCs",
        "outputId": "b5451df9-8989-4380-8ebd-eab98e69a9be"
      },
      "source": [
        "knn=KNeighborsRegressor(n_neighbors=5)\n",
        "knn.fit(X2_train,y2_train)\n",
        "knn.score(X2_test,y2_test)"
      ],
      "execution_count": null,
      "outputs": [
        {
          "output_type": "execute_result",
          "data": {
            "text/plain": [
              "0.49064782920298305"
            ]
          },
          "metadata": {
            "tags": []
          },
          "execution_count": 57
        }
      ]
    },
    {
      "cell_type": "code",
      "metadata": {
        "colab": {
          "base_uri": "https://localhost:8080/"
        },
        "id": "YvfAPy8h21w0",
        "outputId": "a57af4db-c4d6-4093-9eb4-b35475f4bfdd"
      },
      "source": [
        "Neighbours={'n_neighbors':list(range(1,50))}\n",
        "knn=KNeighborsRegressor()\n",
        "knn_cv=GridSearchCV(knn, Neighbours, cv=5)\n",
        "knn_cv.fit(X2,y2)                             #fitting our X2 dataset\n",
        "print(\"Tuned hyperparameter k: {}\".format(knn_cv.best_params_)) \n",
        "print(\"Best score: {}\".format(knn_cv.best_score_))"
      ],
      "execution_count": null,
      "outputs": [
        {
          "output_type": "stream",
          "text": [
            "Tuned hyperparameter k: {'n_neighbors': 46}\n",
            "Best score: 0.5419854244417399\n"
          ],
          "name": "stdout"
        }
      ]
    },
    {
      "cell_type": "markdown",
      "metadata": {
        "id": "fWJpnhQ4ZpwU"
      },
      "source": [
        "As we can see, KNN model using X1 dataset performed the best with a r2_score of 0.55, which is more than any of the linear regression models. So clearly knn model outshined linear regression here."
      ]
    },
    {
      "cell_type": "markdown",
      "metadata": {
        "id": "NqB4ZGG_TF-a"
      },
      "source": [
        "# **SVR**"
      ]
    },
    {
      "cell_type": "code",
      "metadata": {
        "colab": {
          "base_uri": "https://localhost:8080/"
        },
        "id": "sJjcNmnkSwQh",
        "outputId": "2e783011-1a3c-452c-917e-ae29cb90cc51"
      },
      "source": [
        "from sklearn.svm import SVR  #importing required package to build our SVR Model\n",
        "parameters={'gamma':[ 0.01, 0.1, 0.2, 0.5, 0.6],'C':[1,10,100,1000,10000]}  #creating a list of both the parameters required in building svr model\n",
        "svr=SVR()     #creating SVR object\n",
        "svr_cv=GridSearchCV(svr,parameters,cv=5)   #running gridsearch to find the optimum value for our paramters by maximizing r2-score\n",
        "svr_cv.fit(X1,y1.values.ravel())           #fitting our X1 dataset\n",
        "print(svr_cv.best_params_)                 #printing best parameters\n",
        "print(svr_cv.best_score_)                  #printing the r2_score by building the best model using the tuned parameters"
      ],
      "execution_count": null,
      "outputs": [
        {
          "output_type": "stream",
          "text": [
            "{'C': 10000, 'gamma': 0.01}\n",
            "0.5568831043985039\n"
          ],
          "name": "stdout"
        }
      ]
    },
    {
      "cell_type": "code",
      "metadata": {
        "colab": {
          "base_uri": "https://localhost:8080/"
        },
        "id": "VGspgoW4jBdS",
        "outputId": "f5431270-a003-43c1-9bcf-53bb1f77fa6f"
      },
      "source": [
        "parameters={'gamma':[ 0.01, 0.1, 0.2, 0.5, 0.6],'C':[1,10,100,1000,10000]}\n",
        "svr=SVR()\n",
        "svr_cv=GridSearchCV(svr,parameters,cv=5)\n",
        "svr_cv.fit(X2,y2.values.ravel())           #fitting our X2 dataset\n",
        "print(svr_cv.best_params_)\n",
        "print(svr_cv.best_score_)"
      ],
      "execution_count": null,
      "outputs": [
        {
          "output_type": "stream",
          "text": [
            "{'C': 1000, 'gamma': 0.2}\n",
            "0.5287793660165667\n"
          ],
          "name": "stdout"
        }
      ]
    },
    {
      "cell_type": "markdown",
      "metadata": {
        "id": "gCctpxUBbYUR"
      },
      "source": [
        "Here our model trained on X1 data performed better than the one trained on X2 dataset. Also our svr model trained on X1 performed better than the KNN model with a r2_score of 0.5568."
      ]
    },
    {
      "cell_type": "markdown",
      "metadata": {
        "id": "M6OUgGERKAZS"
      },
      "source": [
        "# **Decision Tree**"
      ]
    },
    {
      "cell_type": "code",
      "metadata": {
        "colab": {
          "base_uri": "https://localhost:8080/"
        },
        "id": "8l1_uUGQTKLt",
        "outputId": "f8058791-7654-4417-b386-5638477bb5aa"
      },
      "source": [
        "from sklearn.tree import DecisionTreeRegressor\n",
        "dtr=DecisionTreeRegressor(max_depth=4,min_samples_split=5,max_leaf_nodes=10)\n",
        "dtr.fit(X1_train,y1_train)\n",
        "dtr.score(X1_test,y1_test)"
      ],
      "execution_count": null,
      "outputs": [
        {
          "output_type": "execute_result",
          "data": {
            "text/plain": [
              "0.5246813856114683"
            ]
          },
          "metadata": {
            "tags": []
          },
          "execution_count": 164
        }
      ]
    },
    {
      "cell_type": "code",
      "metadata": {
        "colab": {
          "base_uri": "https://localhost:8080/"
        },
        "id": "xnD6geFDKQPi",
        "outputId": "7675e002-d088-4339-e5cd-919450268907"
      },
      "source": [
        "param_grid = {\"criterion\": [\"mse\", \"mae\"],\n",
        "              \"min_samples_split\": [10, 20, 40],\n",
        "              \"max_depth\": [2, 6, 8],\n",
        "              \"min_samples_leaf\": [20, 40, 100],\n",
        "              \"max_leaf_nodes\": [5, 20, 100],\n",
        "              }\n",
        "dtr_cv = GridSearchCV(dtr, param_grid, cv=5)\n",
        "dtr_cv.fit(X1,y1)\n",
        "print(\"R-Squared:{}\".format(dtr_cv.best_score_))\n",
        "print(\"Best Hyperparameters::\\n{}\".format(dtr_cv.best_params_))"
      ],
      "execution_count": null,
      "outputs": [
        {
          "output_type": "stream",
          "text": [
            "R-Squared:0.5834575690883594\n",
            "Best Hyperparameters::\n",
            "{'criterion': 'mse', 'max_depth': 8, 'max_leaf_nodes': 100, 'min_samples_leaf': 40, 'min_samples_split': 10}\n"
          ],
          "name": "stdout"
        }
      ]
    },
    {
      "cell_type": "code",
      "metadata": {
        "colab": {
          "base_uri": "https://localhost:8080/"
        },
        "id": "B74zVmcV8AR0",
        "outputId": "9f7580d4-fd19-4d29-8e25-d9ec73c8418a"
      },
      "source": [
        "dtr=DecisionTreeRegressor(max_depth=4,min_samples_split=5,max_leaf_nodes=10)\n",
        "dtr.fit(X2_train,y2_train)\n",
        "dtr.score(X2_test,y2_test)"
      ],
      "execution_count": null,
      "outputs": [
        {
          "output_type": "execute_result",
          "data": {
            "text/plain": [
              "0.48768417159776795"
            ]
          },
          "metadata": {
            "tags": []
          },
          "execution_count": 166
        }
      ]
    },
    {
      "cell_type": "code",
      "metadata": {
        "colab": {
          "base_uri": "https://localhost:8080/"
        },
        "id": "ZSsuH66h8Frb",
        "outputId": "a26148c8-0f19-4a94-d9e5-bf0ed71fd0c9"
      },
      "source": [
        "dtr_cv = GridSearchCV(dtr, param_grid, cv=5)\n",
        "dtr_cv.fit(X2,y2)\n",
        "print(\"R-Squared:{}\".format(dtr_cv.best_score_))\n",
        "print(\"Best Hyperparameters::\\n{}\".format(dtr_cv.best_params_))"
      ],
      "execution_count": null,
      "outputs": [
        {
          "output_type": "stream",
          "text": [
            "R-Squared:0.5314545051799648\n",
            "Best Hyperparameters::\n",
            "{'criterion': 'mse', 'max_depth': 8, 'max_leaf_nodes': 100, 'min_samples_leaf': 20, 'min_samples_split': 10}\n"
          ],
          "name": "stdout"
        }
      ]
    },
    {
      "cell_type": "markdown",
      "metadata": {
        "id": "71KmdogNcDpS"
      },
      "source": [
        "Clearly the model trained on X1 performed better. Also, the model trained on X1 has the best r2_score till now i.e. 0.583"
      ]
    },
    {
      "cell_type": "markdown",
      "metadata": {
        "id": "HFcNMZYCS1U7"
      },
      "source": [
        "# **Random Forest**"
      ]
    },
    {
      "cell_type": "code",
      "metadata": {
        "colab": {
          "base_uri": "https://localhost:8080/"
        },
        "id": "oecQTpXIOkz8",
        "outputId": "16feadf5-fcac-45d2-a059-1d7c57e77933"
      },
      "source": [
        "from sklearn.ensemble import RandomForestRegressor \n",
        "rfm=RandomForestRegressor(random_state=1)\n",
        "rfm.fit(X1_train,y1_train)\n",
        "rfm_prediction=rfm.predict(X1_test)\n",
        "print(mean_absolute_error(rfm_prediction,y1_test))\n",
        "print(np.sqrt(mean_squared_error(y1_test, rfm_prediction)))\n",
        "print(r2_score(y1_test,rfm_prediction))"
      ],
      "execution_count": null,
      "outputs": [
        {
          "output_type": "stream",
          "text": [
            "/usr/local/lib/python3.6/dist-packages/ipykernel_launcher.py:3: DataConversionWarning: A column-vector y was passed when a 1d array was expected. Please change the shape of y to (n_samples,), for example using ravel().\n",
            "  This is separate from the ipykernel package so we can avoid doing imports until\n"
          ],
          "name": "stderr"
        },
        {
          "output_type": "stream",
          "text": [
            "1430.4324425724735\n",
            "2223.757670952712\n",
            "0.5668726043772448\n"
          ],
          "name": "stdout"
        }
      ]
    },
    {
      "cell_type": "markdown",
      "metadata": {
        "id": "5DuVC5ZcAwxb"
      },
      "source": [
        "Here we will do a randomized search cv first before grid search cv because here there are too many parameters which will cause the gridsearchcv to run for a very long time. So first we do a randomizedsearchcv and then we run the gridsearchcv."
      ]
    },
    {
      "cell_type": "code",
      "metadata": {
        "colab": {
          "base_uri": "https://localhost:8080/"
        },
        "id": "3Rdu-tXH3jic",
        "outputId": "efe8ac3b-9988-4172-912c-cc2ae5099b6d"
      },
      "source": [
        "from sklearn.model_selection import RandomizedSearchCV\n",
        "n_estimators=[int(x) for x in np.linspace(start = 100, stop = 1200, num = 12)]\n",
        "max_features = ['auto', 'sqrt']\n",
        "max_depth = [int(x) for x in np.linspace(5, 30, num = 6)]\n",
        "min_samples_split = [2, 5, 10]\n",
        "min_samples_leaf = [1, 2, 4, 8]\n",
        "bootstrap = [True, False]\n",
        "random_grid ={'n_estimators':n_estimators,'max_features':max_features,'max_depth':max_depth,'min_samples_split':min_samples_split,'min_samples_leaf':min_samples_leaf,'bootstrap':bootstrap}\n",
        "rfm=RandomForestRegressor(random_state=1)\n",
        "rfm_random_cv=RandomizedSearchCV(estimator=rfm, param_distributions=random_grid, n_iter=50,cv=5)\n",
        "rfm_random_cv.fit(X1,y1.values.ravel())\n",
        "print(\"R-Squared:{}\".format(rfm_random_cv.best_score_))\n",
        "print(\"Best Hyperparameters:\\n{}\".format(rfm_random_cv.best_params_))"
      ],
      "execution_count": null,
      "outputs": [
        {
          "output_type": "stream",
          "text": [
            "R-Squared:0.6164172943161615\n",
            "Best Hyperparameters:\n",
            "{'n_estimators': 1100, 'min_samples_split': 10, 'min_samples_leaf': 2, 'max_features': 'sqrt', 'max_depth': 15, 'bootstrap': True}\n"
          ],
          "name": "stdout"
        }
      ]
    },
    {
      "cell_type": "code",
      "metadata": {
        "colab": {
          "base_uri": "https://localhost:8080/"
        },
        "id": "GUREp9jjS4bV",
        "outputId": "4914fccb-28b5-47c0-87d5-8aa750d7465f"
      },
      "source": [
        "n_estimators=[1000,1100,1200]\n",
        "max_features=['sqrt']\n",
        "max_depth=[15,20,25]\n",
        "min_samples_split=[5,10]\n",
        "min_samples_leaf=[2,4,6]\n",
        "bootstrap=[True]\n",
        "random_grid ={'n_estimators':n_estimators,'max_features':max_features,'max_depth':max_depth,'min_samples_split':min_samples_split,'min_samples_leaf':min_samples_leaf,'bootstrap':bootstrap}\n",
        "rfm=RandomForestRegressor(random_state=1)\n",
        "rfm_cv=GridSearchCV(rfm,random_grid,cv=5)\n",
        "rfm_cv.fit(X1,y1.values.ravel())\n",
        "print(\"R-Squared:{}\".format(rfm_cv.best_score_))\n",
        "print(\"Best Hyperparameters:\\n{}\".format(rfm_cv.best_params_))"
      ],
      "execution_count": null,
      "outputs": [
        {
          "output_type": "stream",
          "text": [
            "R-Squared:0.6166399027720246\n",
            "Best Hyperparameters:\n",
            "{'bootstrap': True, 'max_depth': 15, 'max_features': 'sqrt', 'min_samples_leaf': 4, 'min_samples_split': 10, 'n_estimators': 1200}\n"
          ],
          "name": "stdout"
        }
      ]
    },
    {
      "cell_type": "code",
      "metadata": {
        "colab": {
          "base_uri": "https://localhost:8080/"
        },
        "id": "X7RIxpUfJkNb",
        "outputId": "c2620af0-6266-42e7-b669-85a53aa53e4f"
      },
      "source": [
        "rfm=RandomForestRegressor(random_state=1)\n",
        "rfm_random_cv=RandomizedSearchCV(estimator=rfm, param_distributions=random_grid, n_iter=50,cv=5)\n",
        "rfm_random_cv.fit(X2,y2.values.ravel())\n",
        "print(\"R-Squared:{}\".format(rfm_random_cv.best_score_))\n",
        "print(\"Best Hyperparameters:\\n{}\".format(rfm_random_cv.best_params_))"
      ],
      "execution_count": null,
      "outputs": [
        {
          "output_type": "stream",
          "text": [
            "R-Squared:0.5550006446816087\n",
            "Best Hyperparameters:\n",
            "{'n_estimators': 1100, 'min_samples_split': 10, 'min_samples_leaf': 6, 'max_features': 'sqrt', 'max_depth': 15, 'bootstrap': True}\n"
          ],
          "name": "stdout"
        }
      ]
    },
    {
      "cell_type": "code",
      "metadata": {
        "colab": {
          "base_uri": "https://localhost:8080/"
        },
        "id": "HqpFfdBigqE4",
        "outputId": "ac167e41-98fb-4e58-b7a2-e775a05c1532"
      },
      "source": [
        "n_estimators=[1100,1200]\n",
        "max_features=['sqrt']\n",
        "max_depth=[15,20]\n",
        "min_samples_split=[10,14]\n",
        "min_samples_leaf=[6,8,10]\n",
        "bootstrap=[True]\n",
        "random_grid ={'n_estimators':n_estimators,'max_features':max_features,'max_depth':max_depth,'min_samples_split':min_samples_split,'min_samples_leaf':min_samples_leaf,'bootstrap':bootstrap}\n",
        "rfm=RandomForestRegressor(random_state=1)\n",
        "rfm_cv=GridSearchCV(rfm,random_grid,cv=5)\n",
        "rfm_cv.fit(X2,y2.values.ravel())\n",
        "print(\"R-Squared:{}\".format(rfm_cv.best_score_))\n",
        "print(\"Best Hyperparameters:\\n{}\".format(rfm_cv.best_params_))"
      ],
      "execution_count": null,
      "outputs": [
        {
          "output_type": "stream",
          "text": [
            "R-Squared:0.5550006446816087\n",
            "Best Hyperparameters:\n",
            "{'bootstrap': True, 'max_depth': 15, 'max_features': 'sqrt', 'min_samples_leaf': 6, 'min_samples_split': 10, 'n_estimators': 1100}\n"
          ],
          "name": "stdout"
        }
      ]
    },
    {
      "cell_type": "markdown",
      "metadata": {
        "id": "G8EkcKIPcsMZ"
      },
      "source": [
        "Here the best model is one trained on X1 dataset which had a r2-score of 0.6166 which is the best uptill now. So clearly this is the best model to predict rent amount."
      ]
    },
    {
      "cell_type": "markdown",
      "metadata": {
        "id": "dpl0-faQ-Ww0"
      },
      "source": [
        "# **Limitations**"
      ]
    },
    {
      "cell_type": "markdown",
      "metadata": {
        "id": "5kvzYUeHXmdK"
      },
      "source": [
        "**This model is built on houses whose floors are below 50 and rent amount below 20,000. As a result, we've only removed 11 outliers. So this model can only predict rent amount for those houses which are on floor number less than 50 and will  have rent amount in the range of 0-20,000.**"
      ]
    },
    {
      "cell_type": "markdown",
      "metadata": {
        "id": "_Oyh70gCzNL0"
      },
      "source": [
        "**Also as many of the houses had a invalid floor value of '-', we had to replace them with zero and then built our model, so that must have introduced some inaccuracy in our model.**"
      ]
    },
    {
      "cell_type": "markdown",
      "metadata": {
        "id": "2yB9aO-mzsPK"
      },
      "source": [
        "# **Conclusion**"
      ]
    },
    {
      "cell_type": "markdown",
      "metadata": {
        "id": "S7uKkXiw-e9w"
      },
      "source": [
        "**One of the models which used area feature as well performed better than the other model which didn't use the area feature. This was counterintuitive because correlation of rent price and area was very low(0.18).**"
      ]
    },
    {
      "cell_type": "markdown",
      "metadata": {
        "id": "R6n7FK9n-v4f"
      },
      "source": [
        "**This dataset which contained more datapoints produced more accurate model but the run time of the model was high.**"
      ]
    },
    {
      "cell_type": "markdown",
      "metadata": {
        "id": "1arCUAVB_R7n"
      },
      "source": [
        "**The best model was the random forest regressor which after hyperparameter tuning gave a r2_score of 0.616**"
      ]
    },
    {
      "cell_type": "code",
      "metadata": {
        "colab": {
          "base_uri": "https://localhost:8080/"
        },
        "id": "xiplNNFp_jrm",
        "outputId": "cf40ebcd-4d49-49be-96a6-bd27380abcc3"
      },
      "source": [
        "final_model=RandomForestRegressor(random_state=1,bootstrap=True,max_depth=15,max_features='sqrt',min_samples_leaf=4,min_samples_split=10,n_estimators=1200 )\n",
        "k=5\n",
        "cv_result=cross_val_score(final_model,X1,y1.values.ravel(),cv=k)\n",
        "print('CV Scores: ',cv_result)\n",
        "print('CV scores average: ',np.sum(cv_result)/k)"
      ],
      "execution_count": null,
      "outputs": [
        {
          "output_type": "stream",
          "text": [
            "CV Scores:  [0.63202286 0.6152845  0.61787315 0.61306961 0.60494939]\n",
            "CV scores average:  0.6166399027720246\n"
          ],
          "name": "stdout"
        }
      ]
    },
    {
      "cell_type": "code",
      "metadata": {
        "id": "NUB-BU5VAlWM",
        "colab": {
          "base_uri": "https://localhost:8080/"
        },
        "outputId": "0701bae5-e0d4-404a-ebbb-3d3ee86357bf"
      },
      "source": [
        "final_model.fit(X1,y1.values.ravel())"
      ],
      "execution_count": null,
      "outputs": [
        {
          "output_type": "execute_result",
          "data": {
            "text/plain": [
              "RandomForestRegressor(bootstrap=True, ccp_alpha=0.0, criterion='mse',\n",
              "                      max_depth=15, max_features='sqrt', max_leaf_nodes=None,\n",
              "                      max_samples=None, min_impurity_decrease=0.0,\n",
              "                      min_impurity_split=None, min_samples_leaf=4,\n",
              "                      min_samples_split=10, min_weight_fraction_leaf=0.0,\n",
              "                      n_estimators=1200, n_jobs=None, oob_score=False,\n",
              "                      random_state=1, verbose=0, warm_start=False)"
            ]
          },
          "metadata": {
            "tags": []
          },
          "execution_count": 67
        }
      ]
    }
  ]
}